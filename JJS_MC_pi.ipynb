{
 "cells": [
  {
   "cell_type": "markdown",
   "metadata": {},
   "source": [
    "# Monte Carlo solution of pi\n",
    "This notebook describes the procedure for calculating the numerical value of pi using the Monte Carlo (MC) method. In this MC simulation, the governing equations (Pythagorean theorem, area of a circle and square) will be known *a priori*, and the MC method will be used to calculate the numerical constant of pi. \n",
    "  \n",
    "This MC simulation is based on areal assignments data points on an x-y plane bounded by *x* = [-1,1] and *y* = [-1,1] with [*x*,*y*] coordinates defined by randomly disributed numbers. Assuming uniformly distributed random numbers, the area of a circle with radius, *r* = 1 inscribed in a square is proportional to the number of points in the circle relative to the number of points within the square."
   ]
  },
  {
   "cell_type": "markdown",
   "metadata": {},
   "source": [
    "## Import standard libraries"
   ]
  },
  {
   "cell_type": "code",
   "execution_count": 19,
   "metadata": {},
   "outputs": [],
   "source": [
    "#import random as rnd\n",
    "#import math\n",
    "import numpy as np\n",
    "import matplotlib.pyplot as plt\n",
    "\n",
    "plt.close('all')        # Close all open figures.\n",
    "%matplotlib inline"
   ]
  },
  {
   "cell_type": "markdown",
   "metadata": {},
   "source": [
    "## Define number of data points and assign random numbers\n",
    "The value of pi will be calculated for a predefined value of *n*, the number of random data points within the square (bounded *xy* plane)."
   ]
  },
  {
   "cell_type": "code",
   "execution_count": 20,
   "metadata": {
    "collapsed": true
   },
   "outputs": [],
   "source": [
    "# Input desired value of n.\n",
    "n = 1e3\n",
    "\n",
    "ptsIn = np.zeros([int(n),1])       # Points inside circle.\n",
    "ptsOut = np.zeros([int(n),1])      # Points outside circle.\n",
    "\n",
    "# Create x-y pairs of random numbers on the interval [-1,1]\n",
    "x = 2 * np.random.rand(int(n),1) - 1\n",
    "y = 2 * np.random.rand(int(n),1) - 1\n",
    "\n",
    "# Employ governing equation: r = sqrt(x^2 + y^2).\n",
    "r = np.sqrt(x ** 2 + y ** 2)    # Use np. on numpy arrays."
   ]
  },
  {
   "cell_type": "markdown",
   "metadata": {},
   "source": [
    "## Employ governing equation\n",
    "In order to determine whether a data point is within the inscribed circle with radius, *r* = 1, one of the governing equations must be defined. Here, the Pythagorean theorem will be used: *r*<sup>2</sup> = *x*<sup>2</sup> + *y*<sup>2</sup>. Any random numbers having *r* <= 1 are defined as being inside the circle."
   ]
  },
  {
   "cell_type": "code",
   "execution_count": 21,
   "metadata": {
    "collapsed": true
   },
   "outputs": [],
   "source": [
    "r = np.sqrt(x ** 2 + y ** 2)    # Use np. functions on numpy arrays.\n",
    "\n",
    "# Record position of each x-y pair.\n",
    "ptsIn[r <= 1] = 1\n",
    "ptsOut[r > 1] = 1\n",
    "\n",
    "# Count data points within and outside inscribed circle.\n",
    "sumIn = np.sum(ptsIn)       \n",
    "sumOut = np.sum(ptsOut)     "
   ]
  },
  {
   "cell_type": "markdown",
   "metadata": {},
   "source": [
    "## Calculate pi\n",
    "The area of a circle, *A*<sub>c</sub> = pi *r*<sup>2</sup> and the area of a square, *A*<sub>s</sub> = (2*r*)<sup>2</sup>. The ratio of the area of the inscribed circle to the area of the square, *A*<sub>c</sub> / *A*<sub>s</sub> = pi / 4, so therefore pi = 4 *A*<sub>c</sub> / *A*<sub>c</sub>.  \n",
    "Using the assumptions of the MC simulation, the area of the inscribed circle is proportional to the number of data points in the circle, and similarly the area of the square is equal to the total number of data points in the bounded *xy* plane."
   ]
  },
  {
   "cell_type": "code",
   "execution_count": 22,
   "metadata": {},
   "outputs": [
    {
     "name": "stdout",
     "output_type": "stream",
     "text": [
      "MC value for pi with n = 1000: 3.1\n"
     ]
    }
   ],
   "source": [
    "# Calculate pi.\n",
    "# Area of circle is proportional to sumIn, area of square is prop. to sumIn + sumOuts\n",
    "piMC = 4 * sumIn / (sumIn + sumOut)\n",
    "\n",
    "# Print result.\n",
    "print('MC value for pi with n = ' + str(round(n)) + \n",
    "      ': ' + str(piMC))"
   ]
  },
  {
   "cell_type": "markdown",
   "metadata": {},
   "source": [
    "## Plot results for a single value of *n*"
   ]
  },
  {
   "cell_type": "code",
   "execution_count": 23,
   "metadata": {},
   "outputs": [
    {
     "data": {
      "image/png": "[encoded data removed]",
      "text/plain": [
       "<matplotlib.figure.Figure at 0x21c198e9550>"
      ]
     },
     "metadata": {},
     "output_type": "display_data"
    }
   ],
   "source": [
    "# Create new variables for plotting.\n",
    "xIn = x[ptsIn == 1]; yIn = y[ptsIn == 1]\n",
    "xOut = x[ptsOut == 1]; yOut = y[ptsOut == 1]\n",
    "\n",
    "fig1 = plt.figure(figsize = (4,4))\n",
    "plt.plot(xOut,yOut,'rs',markersize = 2)\n",
    "plt.plot(xIn,yIn,'bo',markersize = 2)\n",
    "plt.axis([-1,1,-1,1],'square')\n",
    "plt.xticks((-1,0,1),fontsize = 14)\n",
    "plt.yticks((-1,0,1),fontsize = 14)\n",
    "plt.xlabel('x',fontweight = 'bold',fontsize = 18)\n",
    "plt.ylabel('y',fontweight = 'bold',fontsize = 18)\n",
    "plt.title('n = ' + str(round(n)),fontweight = 'bold',fontsize = 18)\n",
    "plt.tight_layout()\n",
    "plt.savefig('MonteCarlo_pi_n' + str(round(n)) + '.png',dpi = 300)"
   ]
  },
  {
   "cell_type": "markdown",
   "metadata": {},
   "source": [
    "## Calculate error of MC simulation\n",
    "As a function of the number of randomly distributed data points within the square (*n*), calculate the error of the value of pi calculated using the MC simulation to the true value of pi."
   ]
  },
  {
   "cell_type": "code",
   "execution_count": 24,
   "metadata": {
    "collapsed": true
   },
   "outputs": [],
   "source": [
    "n = np.logspace(1,6,100)        # Array of simulation n's. \n",
    "piMC = np.zeros([len(n),1])     # MC value for pi.\n",
    "\n",
    "for i in range(0,len(n)):\n",
    "    \n",
    "    pts = n[i]\n",
    "    ptsIn = np.zeros([int(pts),1])       # Points inside circle.\n",
    "    ptsOut = np.zeros([int(pts),1])      # Points outside circle.\n",
    "    \n",
    "    # Create x-y pairs of random numbers on the interval [-1,1]\n",
    "    x = 2 * np.random.rand(int(pts),1) - 1\n",
    "    y = 2 * np.random.rand(int(pts),1) - 1\n",
    "    \n",
    "    # Employ governing equation: r = sqrt(x^2 + y^2).\n",
    "    r = np.sqrt(x ** 2 + y ** 2)    # Use np. on numpy arrays.\n",
    "    \n",
    "    # Record position of each x-y pair.\n",
    "    ptsIn[r <= 1] = 1\n",
    "    ptsOut[r > 1] = 1\n",
    "    \n",
    "    # Area of circle prop. to sumIn, Area of square prop. to sumIn + sumOut        \n",
    "    # Ac / As = pi / 4, therefor pi = 4 * Ac / As  \n",
    "    piMC[i] = 4 * np.sum(ptsIn) / (np.sum(ptsIn) + np.sum(ptsOut))\n",
    "\n",
    "# Calculate error as a function of number of data points, n.\n",
    "errorMC = (piMC - np.pi) / np.pi"
   ]
  },
  {
   "cell_type": "markdown",
   "metadata": {},
   "source": [
    "## Plot results of MC simulation error using variable *n*"
   ]
  },
  {
   "cell_type": "code",
   "execution_count": 25,
   "metadata": {},
   "outputs": [
    {
     "data": {
      "image/png": "[encoded data removed]",
      "text/plain": [
       "<matplotlib.figure.Figure at 0x21c1a2615f8>"
      ]
     },
     "metadata": {},
     "output_type": "display_data"
    }
   ],
   "source": [
    "fig2 = plt.figure(figsize = (4,4))\n",
    "plt.semilogx(n,errorMC,'bo-',markersize = 4)\n",
    "plt.axis([n[0],n[-1],-0.15,0.15],'square')\n",
    "plt.xticks((1e2,1e4,1e6),fontsize = 14)\n",
    "plt.yticks((-0.1,0,0.1),fontsize = 14)\n",
    "plt.xlabel('n',fontweight = 'bold',fontsize = 18)\n",
    "plt.ylabel('Rel. Error',fontweight = 'bold',fontsize = 18)\n",
    "plt.title('Error: MC pi',fontweight = 'bold',fontsize = 18)\n",
    "plt.tight_layout()\n",
    "plt.savefig('MonteCarlo_pi_Error.png',dpi = 300)"
   ]
  }
 ],
 "metadata": {
  "kernelspec": {
   "display_name": "Python 3",
   "language": "python",
   "name": "python3"
  },
  "language_info": {
   "codemirror_mode": {
    "name": "ipython",
    "version": 3
   },
   "file_extension": ".py",
   "mimetype": "text/x-python",
   "name": "python",
   "nbconvert_exporter": "python",
   "pygments_lexer": "ipython3",
   "version": "3.6.3"
  }
 },
 "nbformat": 4,
 "nbformat_minor": 2
}
